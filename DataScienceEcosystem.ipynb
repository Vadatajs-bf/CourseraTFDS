{
 "cells": [
  {
   "cell_type": "markdown",
   "id": "fc1620b3-cdec-4567-b815-167db0f0f804",
   "metadata": {},
   "source": [
    "# Data Science Tools and Ecosystem"
   ]
  },
  {
   "cell_type": "markdown",
   "id": "38c0beda-22b2-43b4-aa18-1a2fe288cca4",
   "metadata": {},
   "source": [
    "In this notebook, Data Science Tools and Ecosystem are summarized."
   ]
  },
  {
   "cell_type": "markdown",
   "id": "203d70b7-7ec6-440c-8de1-842015fbb989",
   "metadata": {},
   "source": [
    "**Objectives**\n",
    "- List popular languages for Data Science\n",
    "- RStudio & GitHub\n",
    "- Packages APIs Datasets and models."
   ]
  },
  {
   "cell_type": "markdown",
   "id": "900539a9-f42f-4e69-916e-df4a36d8cbae",
   "metadata": {},
   "source": [
    "Some of the popular languages that Data Scientists use are:\n",
    "1. Python\n",
    "2. R\n",
    "3. SQL"
   ]
  },
  {
   "cell_type": "markdown",
   "id": "e6219b75-e37e-45bb-a4dc-d06f01308de8",
   "metadata": {},
   "source": [
    "Some of the commonly used libraries used by Data Scientists include:\n",
    "1. Pandas\n",
    "2. NumPy\n",
    "3. SciPy"
   ]
  },
  {
   "cell_type": "markdown",
   "id": "6942db34-66b9-421a-a5dc-e24fe8c2a21b",
   "metadata": {},
   "source": [
    "|Data Science Tools| \n",
    "|---|\n",
    "|RStudio| \n",
    "|Apache Spark| \n",
    "|TensorFlow|"
   ]
  },
  {
   "cell_type": "markdown",
   "id": "26e00d3d-6277-4698-a29e-fa7ffa5a3f7e",
   "metadata": {},
   "source": [
    "### Below are a few examples of evaluating arithmetic expressions in Python"
   ]
  },
  {
   "cell_type": "markdown",
   "id": "d5efe2a3-9aaf-4bbf-ae04-6380c71a617e",
   "metadata": {},
   "source": [
    "This is a simple arithmetic expression to multiply then add integers."
   ]
  },
  {
   "cell_type": "code",
   "execution_count": 1,
   "id": "741adc49-8aeb-400d-86ca-9926d53d08d1",
   "metadata": {},
   "outputs": [
    {
     "data": {
      "text/plain": [
       "17"
      ]
     },
     "execution_count": 1,
     "metadata": {},
     "output_type": "execute_result"
    }
   ],
   "source": [
    "(3*4)+5"
   ]
  },
  {
   "cell_type": "markdown",
   "id": "0a3e9af4-d494-403a-b9f9-7df6be58b23c",
   "metadata": {},
   "source": [
    "This will convert 200 minutes to hours by diving by 60"
   ]
  },
  {
   "cell_type": "code",
   "execution_count": 2,
   "id": "7a9d3e81-0a2d-4692-a8e4-0b688dd2e9b4",
   "metadata": {},
   "outputs": [
    {
     "data": {
      "text/plain": [
       "3.3333333333333335"
      ]
     },
     "execution_count": 2,
     "metadata": {},
     "output_type": "execute_result"
    }
   ],
   "source": [
    "200/60"
   ]
  },
  {
   "cell_type": "markdown",
   "id": "f2cb660a-f759-4e24-b750-92d42a7ae251",
   "metadata": {},
   "source": [
    "## Author\n",
    "Ben Fedorko"
   ]
  },
  {
   "cell_type": "code",
   "execution_count": null,
   "id": "64ce2da8-6330-4d7e-acd3-805196424fa8",
   "metadata": {},
   "outputs": [],
   "source": []
  }
 ],
 "metadata": {
  "kernelspec": {
   "display_name": "Python 3 (ipykernel)",
   "language": "python",
   "name": "python3"
  },
  "language_info": {
   "codemirror_mode": {
    "name": "ipython",
    "version": 3
   },
   "file_extension": ".py",
   "mimetype": "text/x-python",
   "name": "python",
   "nbconvert_exporter": "python",
   "pygments_lexer": "ipython3",
   "version": "3.12.5"
  }
 },
 "nbformat": 4,
 "nbformat_minor": 5
}
